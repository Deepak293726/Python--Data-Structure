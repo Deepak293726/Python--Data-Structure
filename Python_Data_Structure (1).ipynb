{
  "nbformat": 4,
  "nbformat_minor": 0,
  "metadata": {
    "colab": {
      "provenance": []
    },
    "kernelspec": {
      "name": "python3",
      "display_name": "Python 3"
    },
    "language_info": {
      "name": "python"
    }
  },
  "cells": [
    {
      "cell_type": "markdown",
      "source": [
        "#Q1. What are data structures, and why are they important?\n",
        "\n",
        "  =Data structures are specialized formats for organizing, processing, and storing data efficiently. They are essential because they allow data to be used effectively, optimize memory use, speed up processing, and enable developers to solve complex problems using suitable formats such as lists, stacks, queues, trees, and graphs."
      ],
      "metadata": {
        "id": "CHSISnaApD9c"
      }
    },
    {
      "cell_type": "markdown",
      "source": [
        "#Q2.Explain the difference between mutable and immutable data types with examples.\n",
        "\n",
        "  =Mutable data types can be changed after creation. Example: list, dict, set\n",
        "\n",
        "  my_list = [1, 2]\n",
        "\n",
        "my_list.append(3)  # Now [1, 2, 3]\n",
        "\n",
        "  Immutable data types cannot be changed after creation. Example: int, float, str, tuple\n",
        "\n",
        "my_str = \"hello\"\n",
        "\n",
        "my_str[0] = 'H' → This will raise an error\n"
      ],
      "metadata": {
        "id": "ZAArYJtupNRD"
      }
    },
    {
      "cell_type": "markdown",
      "source": [
        "#Q3.What are the main differences between lists and tuples in Python?\n",
        "\n",
        "  =Lists are mutable; tuples are immutable.\n",
        "\n",
        "Lists use more memory but are flexible; tuples are faster and memory-efficient.\n",
        "\n",
        "Syntax: [] for lists, () for tuples."
      ],
      "metadata": {
        "id": "5ceNAixPC2PK"
      }
    },
    {
      "cell_type": "markdown",
      "source": [
        "#Q4. Describe how dictionaries store data.\n",
        "\n",
        "  =Dictionaries store data in key-value pairs. Each key is unique and maps to a specific value. Internally, Python uses a hash table to allow fast retrieval based on the key."
      ],
      "metadata": {
        "id": "JihdQqWvDkIO"
      }
    },
    {
      "cell_type": "markdown",
      "source": [
        "#Q5. Why might you use a set instead of a list in Python?\n",
        "\n",
        "  =Sets are useful when:\n",
        "\n",
        "You want unique elements (automatically removes duplicates).\n",
        "\n",
        "You need fast membership testing (in is faster in sets).\n",
        "\n",
        "You perform set operations (union, intersection, difference).\n",
        "\n"
      ],
      "metadata": {
        "id": "uTyxnMXID2ny"
      }
    },
    {
      "cell_type": "markdown",
      "source": [
        "#Q6. What is a string in Python, and how is it different from a list?\n",
        "\n",
        " =A string is a sequence of characters enclosed in quotes and is immutable. A list is a collection of items (can be different types) and is mutable."
      ],
      "metadata": {
        "id": "ByRaV0g2ErXv"
      }
    },
    {
      "cell_type": "markdown",
      "source": [
        "#Q7. How do tuples ensure data integrity in Python?\n",
        "\n",
        "=Because tuples are immutable, they prevent accidental changes to the data, making them ideal for storing constant data or using as dictionary keys."
      ],
      "metadata": {
        "id": "JzfVWH5MFcMc"
      }
    },
    {
      "cell_type": "markdown",
      "source": [
        "#Q8.What is a hash table, and how does it relate to dictionaries in Python?\n",
        "\n",
        "=A hash table is a data structure that maps keys to values using a hash function. Python dictionaries are implemented as hash tables, allowing constant-time key access.\n",
        "\n"
      ],
      "metadata": {
        "id": "-UlqAL2nFp_Y"
      }
    },
    {
      "cell_type": "markdown",
      "source": [
        "Q9. Can lists contain different data types in Python?\n",
        "\n",
        "=Yes, Python lists can hold heterogeneous elements:"
      ],
      "metadata": {
        "id": "SDowp2YsHlAt"
      }
    },
    {
      "cell_type": "markdown",
      "source": [
        "#Q10. Explain why strings are immutable in Python.\n",
        "\n",
        "=Strings are immutable to ensure data integrity, thread safety, and hashability, making them usable as dictionary keys and improving performance by enabling string interning.\n",
        "\n"
      ],
      "metadata": {
        "id": "L21guu7VIA8m"
      }
    },
    {
      "cell_type": "markdown",
      "source": [
        "#Q11.What advantages do dictionaries offer over lists for certain tasks?\n",
        "\n",
        "=Faster lookup and search using keys (O(1) vs. O(n))\n",
        "\n",
        "More organized data storage with key-value pairs\n",
        "\n",
        "Better for mapping relationships"
      ],
      "metadata": {
        "id": "vvATf7OpIGRD"
      }
    },
    {
      "cell_type": "markdown",
      "source": [
        "#Q12.Describe a scenario where using a tuple would be preferable over a list.\n",
        "\n",
        " =Use a tuple to return multiple values from a function or store coordinates ((x, y)) that should not change."
      ],
      "metadata": {
        "id": "TTLA1-KTINR8"
      }
    },
    {
      "cell_type": "markdown",
      "source": [
        "#Q13.How do sets handle duplicate values in Python?\n",
        "\n",
        " =Sets automatically eliminate duplicates. Adding an existing element has no effect."
      ],
      "metadata": {
        "id": "_cXHiNMpKXEj"
      }
    },
    {
      "cell_type": "markdown",
      "source": [
        "#Q14.How does the in keyword work differently for lists and dictionaries?\n",
        "\n",
        "=In lists: checks if a value is present.\n",
        "\n",
        "In dictionaries: checks if a key is present (not the value).\n",
        "\n"
      ],
      "metadata": {
        "id": "G_53snj_Kp9_"
      }
    },
    {
      "cell_type": "markdown",
      "source": [
        "#Q15. Can you modify the elements of a tuple? Explain why or why not.\n",
        "\n",
        "=No. Tuples are immutable, so their contents cannot be changed after creation."
      ],
      "metadata": {
        "id": "Y1Mhz2itKxC7"
      }
    },
    {
      "cell_type": "markdown",
      "source": [
        "#Q16.What is a nested dictionary, and give an example of its use case.\n",
        "\n",
        "=A nested dictionary contains another dictionary as a value.\n",
        "Example:\n",
        "\n",
        "student = {\n",
        "\n",
        "    \"name\": \"John\",\n",
        "    \"marks\": {\"math\": 90, \"science\": 85}\n",
        "}\n"
      ],
      "metadata": {
        "id": "umIClBvhK19z"
      }
    },
    {
      "cell_type": "markdown",
      "source": [
        "#Q17. Describe the time complexity of accessing elements in a dictionary.\n",
        "\n",
        "=Accessing an element by key in a dictionary is O(1) on average due to hashing."
      ],
      "metadata": {
        "id": "NgzBUn90L4yJ"
      }
    },
    {
      "cell_type": "markdown",
      "source": [
        "#Q18. In what situations are lists preferred over dictionaries?\n",
        "\n",
        "=When order matters\n",
        "\n",
        "When dealing with sequences or iterations\n",
        "\n",
        "When there's no need for key-value pairing\n",
        "\n"
      ],
      "metadata": {
        "id": "bw7QHHPwL-Nj"
      }
    },
    {
      "cell_type": "markdown",
      "source": [
        "#Q19. Why are dictionaries considered unordered, and how does that affect data retrieval?\n",
        "\n",
        "=Prior to Python 3.7, dictionaries did not maintain insertion order. Although newer versions do, dictionary operations are based on keys, not positions, so you can’t access elements by index."
      ],
      "metadata": {
        "id": "zV1CB6_9MDJv"
      }
    },
    {
      "cell_type": "markdown",
      "source": [
        "#Q20. Explain the difference between a list and a dictionary in terms of data retrieval.\n",
        "\n",
        "=Lists: retrieve by index → list[0]\n",
        "\n",
        "Dictionaries: retrieve by key → dict[\"key\"]\n",
        "\n",
        "Dictionaries allow faster and more meaningful access via descriptive keys."
      ],
      "metadata": {
        "id": "wRE_ERv9MGji"
      }
    },
    {
      "cell_type": "code",
      "source": [
        "#Q1.Write a code to create a string with your name and print it.\n",
        "name = \"Deepak Singh\"\n",
        "print(name)\n"
      ],
      "metadata": {
        "colab": {
          "base_uri": "https://localhost:8080/"
        },
        "id": "k-A-6rm0MLwh",
        "outputId": "7d2a270c-d3d2-4dac-9e36-c968f2af9fb3"
      },
      "execution_count": null,
      "outputs": [
        {
          "output_type": "stream",
          "name": "stdout",
          "text": [
            "Deepak Singh\n"
          ]
        }
      ]
    },
    {
      "cell_type": "code",
      "source": [
        "#Q2.Write a code to find the length of the string \"Hello World.\n",
        "text = \"Hello World\"\n",
        "len(text)\n"
      ],
      "metadata": {
        "colab": {
          "base_uri": "https://localhost:8080/"
        },
        "id": "zNufeBR6NdFt",
        "outputId": "7126b3be-12c5-42a5-c0ec-3609d9368e1a"
      },
      "execution_count": null,
      "outputs": [
        {
          "output_type": "execute_result",
          "data": {
            "text/plain": [
              "11"
            ]
          },
          "metadata": {},
          "execution_count": 3
        }
      ]
    },
    {
      "cell_type": "code",
      "source": [
        "#Q3.Write a code to slice the first 3 characters from the string \"Python Programming\".\n",
        "s = \"Python Programming\"\n",
        "print(s[:3])\n",
        "\n"
      ],
      "metadata": {
        "colab": {
          "base_uri": "https://localhost:8080/"
        },
        "id": "n3xCsBg7Nqw7",
        "outputId": "31052f42-26ac-44f5-8836-fb1666f96edb"
      },
      "execution_count": null,
      "outputs": [
        {
          "output_type": "stream",
          "name": "stdout",
          "text": [
            "Pyt\n"
          ]
        }
      ]
    },
    {
      "cell_type": "code",
      "source": [
        "#Q4.Write a code to convert the string \"hello\" to uppercase.\n",
        "word = \"hello\"\n",
        "print(word.upper())\n"
      ],
      "metadata": {
        "colab": {
          "base_uri": "https://localhost:8080/"
        },
        "id": "ySBHvGbsPfL5",
        "outputId": "f0778d58-a816-42ef-b903-fac6fe125868"
      },
      "execution_count": null,
      "outputs": [
        {
          "output_type": "stream",
          "name": "stdout",
          "text": [
            "HELLO\n"
          ]
        }
      ]
    },
    {
      "cell_type": "code",
      "source": [
        "#Q5.Write a code to replace the word \"apple\" with \"orange\" in the string \"I like apple\".\n",
        "sentence = \"I like apple\"\n",
        "print(sentence.replace(\"apple\", \"orange\"))\n"
      ],
      "metadata": {
        "colab": {
          "base_uri": "https://localhost:8080/"
        },
        "id": "C6sV7kwFPlXi",
        "outputId": "0e170df9-fe04-406a-9209-5f561d1c94e4"
      },
      "execution_count": null,
      "outputs": [
        {
          "output_type": "stream",
          "name": "stdout",
          "text": [
            "I like orange\n"
          ]
        }
      ]
    },
    {
      "cell_type": "code",
      "source": [
        "#Q6. Write a code to create a list with numbers 1 to 5 and print it.\n",
        "numbers = [1, 2, 3, 4, 5]\n",
        "print(numbers)\n"
      ],
      "metadata": {
        "colab": {
          "base_uri": "https://localhost:8080/"
        },
        "id": "ZFVnfHYwQFz5",
        "outputId": "5d7347f9-6117-4fb9-be0c-675d05b5e412"
      },
      "execution_count": null,
      "outputs": [
        {
          "output_type": "stream",
          "name": "stdout",
          "text": [
            "[1, 2, 3, 4, 5]\n"
          ]
        }
      ]
    },
    {
      "cell_type": "code",
      "source": [
        "#Q7.Write a code to append the number 10 to the list [1, 2, 3, 4].\n",
        "lst = [1, 2, 3, 4]\n",
        "lst.append(10)\n",
        "print(lst)\n"
      ],
      "metadata": {
        "colab": {
          "base_uri": "https://localhost:8080/"
        },
        "id": "iUFeWOVvQOxl",
        "outputId": "4b724ec7-628e-4808-b858-6d3e3ce42302"
      },
      "execution_count": null,
      "outputs": [
        {
          "output_type": "stream",
          "name": "stdout",
          "text": [
            "[1, 2, 3, 4, 10]\n"
          ]
        }
      ]
    },
    {
      "cell_type": "code",
      "source": [
        "#Q8. Write a code to remove the number 3 from the list [1, 2, 3, 4, 5].\n",
        "lst = [1, 2, 3, 4, 5]\n",
        "lst.remove(3)\n",
        "print(lst)\n"
      ],
      "metadata": {
        "colab": {
          "base_uri": "https://localhost:8080/"
        },
        "id": "2O-KC-VARxKm",
        "outputId": "edca01eb-4e25-4565-c328-94013347b00c"
      },
      "execution_count": 1,
      "outputs": [
        {
          "output_type": "stream",
          "name": "stdout",
          "text": [
            "[1, 2, 4, 5]\n"
          ]
        }
      ]
    },
    {
      "cell_type": "code",
      "source": [
        "#Q9. Write a code to access the second element in the list ['a', 'b', 'c', 'd'].\n",
        "chars = ['a', 'b', 'c', 'd']\n",
        "print(chars[1])\n"
      ],
      "metadata": {
        "colab": {
          "base_uri": "https://localhost:8080/"
        },
        "id": "mai_FkUER2VE",
        "outputId": "a7c2d239-188c-467c-986c-c8540bef6603"
      },
      "execution_count": null,
      "outputs": [
        {
          "output_type": "stream",
          "name": "stdout",
          "text": [
            "b\n"
          ]
        }
      ]
    },
    {
      "cell_type": "code",
      "source": [
        "#Q10.Write a code to reverse the list [10, 20, 30, 40, 50].\n",
        "lst = [10, 20, 30, 40, 50]\n",
        "lst.reverse()\n",
        "print(lst)\n"
      ],
      "metadata": {
        "colab": {
          "base_uri": "https://localhost:8080/"
        },
        "id": "eqEEIvEzSItu",
        "outputId": "cfb10627-6f24-4551-f9cf-0d5382e8dcbb"
      },
      "execution_count": null,
      "outputs": [
        {
          "output_type": "stream",
          "name": "stdout",
          "text": [
            "[50, 40, 30, 20, 10]\n"
          ]
        }
      ]
    },
    {
      "cell_type": "code",
      "source": [
        "#Q11.Write a code to create a tuple with the elements 100, 200, 300 and print it.\n",
        "tup = (100, 200, 300)\n",
        "print(tup)\n"
      ],
      "metadata": {
        "colab": {
          "base_uri": "https://localhost:8080/"
        },
        "id": "WbJV25fsSPuA",
        "outputId": "ada98fd0-8252-4e4d-d158-7a8e03fccb74"
      },
      "execution_count": null,
      "outputs": [
        {
          "output_type": "stream",
          "name": "stdout",
          "text": [
            "(100, 200, 300)\n"
          ]
        }
      ]
    },
    {
      "cell_type": "code",
      "source": [
        "#Q12.Write a code to access the second-to-last element of the tuple ('red', 'green', 'blue', 'yellow').\n",
        "colors = ('red', 'green', 'blue', 'yellow')\n",
        "print(colors[-2])\n"
      ],
      "metadata": {
        "colab": {
          "base_uri": "https://localhost:8080/"
        },
        "id": "lQUSNmsfSXmU",
        "outputId": "683350e6-3543-4b29-e242-b5fa64db948c"
      },
      "execution_count": null,
      "outputs": [
        {
          "output_type": "stream",
          "name": "stdout",
          "text": [
            "blue\n"
          ]
        }
      ]
    },
    {
      "cell_type": "code",
      "source": [
        "#Q13.Write a code to find the minimum number in the tuple (10, 20, 5, 15).\n",
        "nums = (10, 20, 5, 15)\n",
        "print(min(nums))\n"
      ],
      "metadata": {
        "colab": {
          "base_uri": "https://localhost:8080/"
        },
        "id": "PJa5s3ukSrhV",
        "outputId": "1000ed6e-0cd5-40d0-b196-a1ac11de20e5"
      },
      "execution_count": null,
      "outputs": [
        {
          "output_type": "stream",
          "name": "stdout",
          "text": [
            "5\n"
          ]
        }
      ]
    },
    {
      "cell_type": "code",
      "source": [
        "#Q14. Write a code to find the index of the element \"cat\" in the tuple ('dog', 'cat', 'rabbit').\n",
        "animals = ('dog', 'cat', 'rabbit')\n",
        "print(animals.index(\"cat\"))\n"
      ],
      "metadata": {
        "colab": {
          "base_uri": "https://localhost:8080/"
        },
        "id": "HLt3YZJSSye_",
        "outputId": "ac46da6d-6e01-415a-bb9a-3ff61196c737"
      },
      "execution_count": null,
      "outputs": [
        {
          "output_type": "stream",
          "name": "stdout",
          "text": [
            "1\n"
          ]
        }
      ]
    },
    {
      "cell_type": "code",
      "source": [
        "#Q15. Write a code to create a tuple containing three different fruits and check if \"kiwi\" is in it.\n",
        "fruits = (\"apple\", \"banana\", \"mango\")\n",
        "print(\"kiwi\" in fruits)\n"
      ],
      "metadata": {
        "colab": {
          "base_uri": "https://localhost:8080/"
        },
        "id": "OUvgDgq8S6Tw",
        "outputId": "123a3c20-f322-4094-93be-65eb9ada2db2"
      },
      "execution_count": null,
      "outputs": [
        {
          "output_type": "stream",
          "name": "stdout",
          "text": [
            "False\n"
          ]
        }
      ]
    },
    {
      "cell_type": "code",
      "source": [
        "#Q16. Write a code to create a set with the elements 'a', 'b', 'c' and print it.\n",
        "s = {'a', 'b', 'c'}\n",
        "print(s)\n"
      ],
      "metadata": {
        "colab": {
          "base_uri": "https://localhost:8080/"
        },
        "id": "ZAhRkMLMTCQz",
        "outputId": "5a108c66-6dc5-4823-ace4-a7f4e3d72b72"
      },
      "execution_count": null,
      "outputs": [
        {
          "output_type": "stream",
          "name": "stdout",
          "text": [
            "{'b', 'a', 'c'}\n"
          ]
        }
      ]
    },
    {
      "cell_type": "code",
      "source": [
        "#Q17. Write a code to clear all elements from the set {1, 2, 3, 4, 5}.\n",
        "s = {1, 2, 3, 4, 5}\n",
        "s.clear()\n",
        "print(s)\n"
      ],
      "metadata": {
        "colab": {
          "base_uri": "https://localhost:8080/"
        },
        "id": "L4QirYu-goxw",
        "outputId": "92339b96-9d79-49f0-e3a3-399a686635c0"
      },
      "execution_count": null,
      "outputs": [
        {
          "output_type": "stream",
          "name": "stdout",
          "text": [
            "set()\n"
          ]
        }
      ]
    },
    {
      "cell_type": "code",
      "source": [
        "#Q18.Write a code to remove the element 4 from the set {1, 2, 3, 4}.\n",
        "s = {1, 2, 3, 4}\n",
        "s.remove(4)\n",
        "print(s)\n"
      ],
      "metadata": {
        "colab": {
          "base_uri": "https://localhost:8080/"
        },
        "id": "KzCLPyErgv1o",
        "outputId": "af92445a-e722-4850-dc49-650b2e11139c"
      },
      "execution_count": null,
      "outputs": [
        {
          "output_type": "stream",
          "name": "stdout",
          "text": [
            "{1, 2, 3}\n"
          ]
        }
      ]
    },
    {
      "cell_type": "code",
      "source": [
        "#Q19.Write a code to find the union of two sets {1, 2, 3} and {3, 4, 5}.\n",
        "a = {1, 2, 3}\n",
        "b = {3, 4, 5}\n",
        "print(a.union(b))\n"
      ],
      "metadata": {
        "colab": {
          "base_uri": "https://localhost:8080/"
        },
        "id": "dm0Ytfkvg35C",
        "outputId": "61fd7fbb-d4f3-4764-e7c8-64a4ac516a5a"
      },
      "execution_count": null,
      "outputs": [
        {
          "output_type": "stream",
          "name": "stdout",
          "text": [
            "{1, 2, 3, 4, 5}\n"
          ]
        }
      ]
    },
    {
      "cell_type": "code",
      "source": [
        "#Q20.Write a code to find the intersection of two sets {1, 2, 3} and {2, 3, 4}.\n",
        "a = {1, 2, 3}\n",
        "b = {2, 3, 4}\n",
        "print(a.intersection(b))\n"
      ],
      "metadata": {
        "colab": {
          "base_uri": "https://localhost:8080/"
        },
        "id": "o4wCQDhQg-vQ",
        "outputId": "8a983994-3976-4a3d-8961-7083ccc40925"
      },
      "execution_count": null,
      "outputs": [
        {
          "output_type": "stream",
          "name": "stdout",
          "text": [
            "{2, 3}\n"
          ]
        }
      ]
    },
    {
      "cell_type": "code",
      "source": [
        "#Q21.Write a code to create a dictionary with the keys \"name\", \"age\", and \"city\", and print it.\n",
        "person = {\"name\": \"John\", \"age\": 25, \"city\": \"New York\"}\n",
        "print(person)\n"
      ],
      "metadata": {
        "colab": {
          "base_uri": "https://localhost:8080/"
        },
        "id": "8oh3L5VehF-g",
        "outputId": "a6ee28a2-97be-4eb9-83bf-9300e5f7bdaa"
      },
      "execution_count": null,
      "outputs": [
        {
          "output_type": "stream",
          "name": "stdout",
          "text": [
            "{'name': 'John', 'age': 25, 'city': 'New York'}\n"
          ]
        }
      ]
    },
    {
      "cell_type": "code",
      "source": [
        "#Q22.Write a code to add a new key-value pair \"country\": \"USA\" to the dictionary {'name': 'John', 'age': 25}\n",
        "person = {'name': 'John', 'age': 25}\n",
        "person[\"country\"] = \"USA\"\n",
        "print(person)\n"
      ],
      "metadata": {
        "colab": {
          "base_uri": "https://localhost:8080/"
        },
        "id": "7gLw7FGUhNPA",
        "outputId": "424f9fd7-15e0-4f96-9b17-dce8c3d79d36"
      },
      "execution_count": null,
      "outputs": [
        {
          "output_type": "stream",
          "name": "stdout",
          "text": [
            "{'name': 'John', 'age': 25, 'country': 'USA'}\n"
          ]
        }
      ]
    },
    {
      "cell_type": "code",
      "source": [
        "#Q23. Write a code to access the value associated with the key \"name\" in the dictionary {'name': 'Alice', 'age': 30}.\n",
        "d = {'name': 'Alice', 'age': 30}\n",
        "print(d[\"name\"])\n"
      ],
      "metadata": {
        "colab": {
          "base_uri": "https://localhost:8080/"
        },
        "id": "CD3A9SxphTPn",
        "outputId": "7f35135e-2a87-4d90-8be1-ad874afb1a3a"
      },
      "execution_count": null,
      "outputs": [
        {
          "output_type": "stream",
          "name": "stdout",
          "text": [
            "Alice\n"
          ]
        }
      ]
    },
    {
      "cell_type": "code",
      "source": [
        "#Q24. Write a code to remove the key \"age\" from the dictionary {'name': 'Bob', 'age': 22, 'city': 'New York'}.\n",
        "d = {'name': 'Bob', 'age': 22, 'city': 'New York'}\n",
        "del d[\"age\"]\n",
        "print(d)\n"
      ],
      "metadata": {
        "colab": {
          "base_uri": "https://localhost:8080/"
        },
        "id": "zi2De4bwhZZq",
        "outputId": "f17cc421-cdde-47a3-a5f0-66f24374435d"
      },
      "execution_count": null,
      "outputs": [
        {
          "output_type": "stream",
          "name": "stdout",
          "text": [
            "{'name': 'Bob', 'city': 'New York'}\n"
          ]
        }
      ]
    },
    {
      "cell_type": "code",
      "source": [
        "#Q25. Write a code to check if the key \"city\" exists in the dictionary {'name': 'Alice', 'city': 'Paris'}.\n",
        "d = {'name': 'Alice', 'city': 'Paris'}\n",
        "print(\"city\" in d)\n"
      ],
      "metadata": {
        "colab": {
          "base_uri": "https://localhost:8080/"
        },
        "id": "K0aZvvVrhgTz",
        "outputId": "6bb463a3-13f9-49d5-ade5-238e7b593157"
      },
      "execution_count": null,
      "outputs": [
        {
          "output_type": "stream",
          "name": "stdout",
          "text": [
            "True\n"
          ]
        }
      ]
    },
    {
      "cell_type": "code",
      "source": [
        "#Q26.Write a code to create a list, a tuple, and a dictionary, and print them all.\n",
        "lst = [1, 2, 3]\n",
        "tup = (4, 5, 6)\n",
        "dct = {\"a\": 1, \"b\": 2}\n",
        "print(lst)\n",
        "print(tup)\n",
        "print(dct)\n"
      ],
      "metadata": {
        "colab": {
          "base_uri": "https://localhost:8080/"
        },
        "id": "1-E7AU55hm-p",
        "outputId": "0edc9e9f-1f38-4dd2-e947-5c404fb99bcf"
      },
      "execution_count": null,
      "outputs": [
        {
          "output_type": "stream",
          "name": "stdout",
          "text": [
            "[1, 2, 3]\n",
            "(4, 5, 6)\n",
            "{'a': 1, 'b': 2}\n"
          ]
        }
      ]
    },
    {
      "cell_type": "code",
      "source": [
        "#Q27.Write a code to create a list of 5 random numbers between 1 and 100, sort it in ascending order, and print the result.(replaced)\n",
        "import random\n",
        "numbers = random.sample(range(1, 101), 5)\n",
        "numbers.sort()\n",
        "print(numbers)\n"
      ],
      "metadata": {
        "colab": {
          "base_uri": "https://localhost:8080/"
        },
        "id": "yg4AOHx5hoPz",
        "outputId": "2f255698-a706-4c6b-bad9-ab238a1362e0"
      },
      "execution_count": 2,
      "outputs": [
        {
          "output_type": "stream",
          "name": "stdout",
          "text": [
            "[18, 33, 47, 72, 95]\n"
          ]
        }
      ]
    },
    {
      "cell_type": "code",
      "source": [
        "#Q28.Write a code to create a list with strings and print the element at the third index.\n",
        "words = [\"apple\", \"banana\", \"cherry\", \"date\", \"fig\"]\n",
        "print(words[3])\n"
      ],
      "metadata": {
        "colab": {
          "base_uri": "https://localhost:8080/"
        },
        "id": "IJl62MJ-hp7d",
        "outputId": "efd5f2f0-479e-4e40-e95c-2d2091003f4b"
      },
      "execution_count": null,
      "outputs": [
        {
          "output_type": "stream",
          "name": "stdout",
          "text": [
            "date\n"
          ]
        }
      ]
    },
    {
      "cell_type": "code",
      "source": [
        "#Q29. Write a code to combine two dictionaries into one and print the result.\n",
        "a = {\"name\": \"John\"}\n",
        "b = {\"age\": 30}\n",
        "combined = {**a, **b}\n",
        "print(combined)\n"
      ],
      "metadata": {
        "colab": {
          "base_uri": "https://localhost:8080/"
        },
        "id": "m12puJJ7hrfN",
        "outputId": "a8ecaa72-e42b-44a2-9390-2ae842fc6811"
      },
      "execution_count": null,
      "outputs": [
        {
          "output_type": "stream",
          "name": "stdout",
          "text": [
            "{'name': 'John', 'age': 30}\n"
          ]
        }
      ]
    },
    {
      "cell_type": "code",
      "source": [
        "#Q30.Write a code to convert a list of strings into a set.\n",
        "words = [\"apple\", \"banana\", \"apple\"]\n",
        "unique_words = set(words)\n",
        "print(unique_words)\n"
      ],
      "metadata": {
        "colab": {
          "base_uri": "https://localhost:8080/"
        },
        "id": "bApBNH7UhsoO",
        "outputId": "a6464b69-f524-4fa3-befa-93e52fc9d4bb"
      },
      "execution_count": null,
      "outputs": [
        {
          "output_type": "stream",
          "name": "stdout",
          "text": [
            "{'banana', 'apple'}\n"
          ]
        }
      ]
    }
  ]
}